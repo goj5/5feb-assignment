{
 "cells": [
  {
   "cell_type": "code",
   "execution_count": null,
   "id": "4cd98596-2019-481f-b2fc-590b954e8941",
   "metadata": {},
   "outputs": [],
   "source": [
    "Q1. Explain Class and Object with respect to Object-Oriented Programming. Give a suitable example."
   ]
  },
  {
   "cell_type": "code",
   "execution_count": null,
   "id": "af2d76aa-784e-480b-afec-4bdf625bb141",
   "metadata": {},
   "outputs": [],
   "source": [
    "In object-oriented programming (OOP), a class is a blueprint for creating objects (instances).\n",
    "It defines the properties (attributes) and behaviors (methods) that all objects of that class will have.\n",
    "An object, is an instance of a class. \n",
    "It is a concrete entity that exists in memory and can be manipulated to perform various tasks"
   ]
  },
  {
   "cell_type": "code",
   "execution_count": 5,
   "id": "dee71226-ab1a-4e91-b9b3-e6578a83c3e6",
   "metadata": {},
   "outputs": [],
   "source": [
    "class Car:\n",
    "    def __init__(self, make, model):\n",
    "        self.make = make\n",
    "        self.model = model"
   ]
  },
  {
   "cell_type": "code",
   "execution_count": 3,
   "id": "a149aee3-ec27-4ba9-a3e7-5b981170e2d1",
   "metadata": {},
   "outputs": [],
   "source": [
    "car1 = Car(\"Toyota\", \"Camry\")\n",
    "car2 = Car(\"Tesla\", \"Model S\")"
   ]
  },
  {
   "cell_type": "code",
   "execution_count": 4,
   "id": "088ca94f-a2b7-4ba5-99aa-107206ea0462",
   "metadata": {},
   "outputs": [
    {
     "name": "stdout",
     "output_type": "stream",
     "text": [
      "Toyota Camry\n"
     ]
    }
   ],
   "source": [
    "print(car1.make, car1.model) "
   ]
  },
  {
   "cell_type": "code",
   "execution_count": 6,
   "id": "d5fee18d-3d12-43b1-a272-1596c4fcf47b",
   "metadata": {},
   "outputs": [
    {
     "name": "stdout",
     "output_type": "stream",
     "text": [
      "Tesla Model S\n"
     ]
    }
   ],
   "source": [
    "print(car2.make, car2.model) "
   ]
  },
  {
   "cell_type": "code",
   "execution_count": null,
   "id": "3e4fa556-b7a5-4c27-a0f4-ac52ef9a7057",
   "metadata": {},
   "outputs": [],
   "source": [
    "Q2. Name the four pillars of OOPs."
   ]
  },
  {
   "cell_type": "code",
   "execution_count": null,
   "id": "93cac41b-395c-43d8-8d0f-39adb58e3a54",
   "metadata": {},
   "outputs": [],
   "source": [
    "Encapsulation: \n",
    "Encapsulation refers to the bundling of data and methods that operate on the data into a single unit called a class.\n",
    "its hides the structure of class from the user to prevent modification.\n",
    "\n",
    "Inheritance: \n",
    "Inheritance is the mechanism by which a class (derived class) can inherit attributes and methods from another class \n",
    "(base class). \n",
    "\n",
    "Polymorphism:\n",
    "Polymorphism means the ability to present the same interface for different data types or objects. \n",
    "\n",
    "Abstraction:\n",
    "Abstraction refers to the process of simplifying complex reality by modeling classes appropriate to the problem,\n",
    "hiding unnecessary implementation details from the user"
   ]
  },
  {
   "cell_type": "code",
   "execution_count": null,
   "id": "c7ed81f7-e58c-4d8b-aa68-465a3f2a6b87",
   "metadata": {},
   "outputs": [],
   "source": [
    "Q3. Explain why the __init__() function is used. Give a suitable example."
   ]
  },
  {
   "cell_type": "code",
   "execution_count": null,
   "id": "a92ace8a-80ca-4f08-92e2-b1e9e45b105c",
   "metadata": {},
   "outputs": [],
   "source": [
    "the __init__() function is a special method(constructor) that is automatically called when a new instance of a class\n",
    "is created. It is used to initialize the attributes of the object."
   ]
  },
  {
   "cell_type": "code",
   "execution_count": 7,
   "id": "98847748-676a-4143-bf1c-ea532535efbb",
   "metadata": {},
   "outputs": [
    {
     "name": "stdout",
     "output_type": "stream",
     "text": [
      "Name: Alice, Age: 30\n"
     ]
    }
   ],
   "source": [
    "class Person:\n",
    "    def __init__(self, name, age):\n",
    "        self.name = name\n",
    "        self.age = age\n",
    "\n",
    "    def display_info(self):\n",
    "        print(f\"Name: {self.name}, Age: {self.age}\")\n",
    "\n",
    "person1 = Person(\"Alice\", 30)\n",
    "person1.display_info()   \n"
   ]
  },
  {
   "cell_type": "code",
   "execution_count": null,
   "id": "45345b76-3506-4d71-a3be-11b3372b2f61",
   "metadata": {},
   "outputs": [],
   "source": [
    "Q4. Why self is used in OOPs?"
   ]
  },
  {
   "cell_type": "code",
   "execution_count": null,
   "id": "9999ebaf-2d1b-4aaa-91d6-a4501f774bf4",
   "metadata": {},
   "outputs": [],
   "source": [
    "self is a convention used in Python to refer to the current instance of a class.\n",
    "It is a reference to the object itself.\n",
    "The use of self is crucial for accessing attributes and methods within a class."
   ]
  },
  {
   "cell_type": "code",
   "execution_count": null,
   "id": "10e550fd-8899-4b22-b4ca-14f2a29e8f72",
   "metadata": {},
   "outputs": [],
   "source": [
    "Q5. What is inheritance? Give an example for each type of inheritance."
   ]
  },
  {
   "cell_type": "code",
   "execution_count": null,
   "id": "3a6e5303-ba23-4e41-96ce-a4c63b410335",
   "metadata": {},
   "outputs": [],
   "source": [
    "Inheritance is a fundamental concept in OOP. where a new class (derived class) can inherit attributes\n",
    "and methods from an existing class ( base class). \n",
    "This allows the subclass to reuse the code of the superclass, promoting code reusability and establishing\n",
    "a hierarchical relationship between classes.\n",
    "\n",
    "types of inheritance in OOP\n",
    "\n",
    "Single Inheritance:a subclass inherits from only one superclass.\n",
    "\n",
    "Multiple Inheritance: a subclass inherits from multiple superclasses.\n",
    "\n",
    "Multilevel Inheritance: a subclass is derived from another subclass, creating a hierarchical relationship of classes.\n",
    "\n",
    "Hierarchical Inheritance: multiple subclasses inherit from a single superclass, forming a hierarchy of classes"
   ]
  },
  {
   "cell_type": "code",
   "execution_count": 5,
   "id": "9cadc91a-d6b1-4bd8-ade5-4423fd264598",
   "metadata": {},
   "outputs": [
    {
     "data": {
      "text/plain": [
       "'hi this is mahs class'"
      ]
     },
     "execution_count": 5,
     "metadata": {},
     "output_type": "execute_result"
    }
   ],
   "source": [
    "#single inheritance\n",
    "class test():\n",
    "    def math_test(self):\n",
    "        return \"hi this is mahs class\"\n",
    "\n",
    "class c1(test):\n",
    "    pass\n",
    "\n",
    "class_c1_obj=c1()\n",
    "class_c1_obj.math_test()\n"
   ]
  },
  {
   "cell_type": "code",
   "execution_count": 6,
   "id": "f30301fe-0b08-462d-8a0b-6cc2b8d8015a",
   "metadata": {},
   "outputs": [
    {
     "name": "stdout",
     "output_type": "stream",
     "text": [
      "Method A from class A\n",
      "Method B from class B\n",
      "Method C from class C\n"
     ]
    }
   ],
   "source": [
    "#multiple inheritane\n",
    "class A:\n",
    "    def method_A(self):\n",
    "        print(\"Method A from class A\")\n",
    "class B:\n",
    "    def method_B(self):\n",
    "        print(\"Method B from class B\")\n",
    "class C(A, B):\n",
    "    def method_C(self):\n",
    "        print(\"Method C from class C\")\n",
    "obj = C()\n",
    "obj.method_A() \n",
    "obj.method_B() \n",
    "obj.method_C()  \n"
   ]
  },
  {
   "cell_type": "code",
   "execution_count": 7,
   "id": "457891db-1478-44e3-8ab5-0677d7f8a506",
   "metadata": {},
   "outputs": [
    {
     "name": "stdout",
     "output_type": "stream",
     "text": [
      "Method A class A\n",
      "Method B class B\n",
      "Method C class C\n"
     ]
    }
   ],
   "source": [
    "#multilevel inheritance\n",
    "class A:\n",
    "    def method_A(self):\n",
    "        print(\"Method A class A\")\n",
    "\n",
    "class B(A):\n",
    "    def method_B(self):\n",
    "        print(\"Method B class B\")\n",
    "\n",
    "class C(B):\n",
    "    def method_C(self):\n",
    "        print(\"Method C class C\")\n",
    "obj = C()\n",
    "obj.method_A() \n",
    "obj.method_B()  \n",
    "obj.method_C() \n",
    "\n"
   ]
  },
  {
   "cell_type": "code",
   "execution_count": 9,
   "id": "8d51deb4-3212-42bf-a442-eaef1a945abc",
   "metadata": {},
   "outputs": [
    {
     "name": "stdout",
     "output_type": "stream",
     "text": [
      "A\n",
      "B\n",
      "A\n",
      "C\n"
     ]
    }
   ],
   "source": [
    "#Hierarchical Inheritance\n",
    "class A:\n",
    "    def METHODA(self):\n",
    "        print(\"A\")\n",
    "\n",
    "class B(A):\n",
    "    def METHODB(self):\n",
    "        print(\"B\")\n",
    "\n",
    "class C(A):\n",
    "    def METHODC(self):\n",
    "        print(\"C\")\n",
    "\n",
    "obj = B()\n",
    "obj.METHODA()  # Output: Animal speaks\n",
    "obj.METHODB()   # Output: Dog barks\n",
    "\n",
    "obj_c = C()\n",
    "obj_c.METHODA()  # Output: Animal speaks\n",
    "obj_c.METHODC()   # Output: Cat meows\n"
   ]
  },
  {
   "cell_type": "code",
   "execution_count": 11,
   "id": "5bcbfcc7-bbee-4a24-87e0-b5d579b21de1",
   "metadata": {},
   "outputs": [
    {
     "name": "stdout",
     "output_type": "stream",
     "text": [
      "Method A from class A\n",
      "Method B from class B\n",
      "Method C from class C\n",
      "Method D from class D\n"
     ]
    }
   ],
   "source": [
    "#Hybrid Inheritance\n",
    "class A:\n",
    "    def method_A(self):\n",
    "        print(\"Method A from class A\")\n",
    "\n",
    "class B(A):\n",
    "    def method_B(self):\n",
    "        print(\"Method B from class B\")\n",
    "\n",
    "class C(A):\n",
    "    def method_C(self):\n",
    "        print(\"Method C from class C\")\n",
    "\n",
    "class D(B, C):\n",
    "    def method_D(self):\n",
    "        print(\"Method D from class D\")\n",
    "\n",
    "obj = D()\n",
    "obj.method_A()  \n",
    "obj.method_B()  \n",
    "obj.method_C()  \n",
    "obj.method_D()  \n"
   ]
  },
  {
   "cell_type": "code",
   "execution_count": null,
   "id": "3bb29c00-f744-423f-aa89-83ba5ab4a088",
   "metadata": {},
   "outputs": [],
   "source": []
  }
 ],
 "metadata": {
  "kernelspec": {
   "display_name": "Python 3 (ipykernel)",
   "language": "python",
   "name": "python3"
  },
  "language_info": {
   "codemirror_mode": {
    "name": "ipython",
    "version": 3
   },
   "file_extension": ".py",
   "mimetype": "text/x-python",
   "name": "python",
   "nbconvert_exporter": "python",
   "pygments_lexer": "ipython3",
   "version": "3.10.8"
  }
 },
 "nbformat": 4,
 "nbformat_minor": 5
}
